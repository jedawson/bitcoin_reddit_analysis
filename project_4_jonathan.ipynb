{
 "cells": [
  {
   "cell_type": "code",
   "execution_count": 1,
   "metadata": {},
   "outputs": [],
   "source": [
    "import pandas as pd\n",
    "import numpy as np"
   ]
  },
  {
   "cell_type": "code",
   "execution_count": 2,
   "metadata": {},
   "outputs": [
    {
     "name": "stdout",
     "output_type": "stream",
     "text": [
      "(104822, 17)\n"
     ]
    },
    {
     "data": {
      "text/html": [
       "<div>\n",
       "<style scoped>\n",
       "    .dataframe tbody tr th:only-of-type {\n",
       "        vertical-align: middle;\n",
       "    }\n",
       "\n",
       "    .dataframe tbody tr th {\n",
       "        vertical-align: top;\n",
       "    }\n",
       "\n",
       "    .dataframe thead th {\n",
       "        text-align: right;\n",
       "    }\n",
       "</style>\n",
       "<table border=\"1\" class=\"dataframe\">\n",
       "  <thead>\n",
       "    <tr style=\"text-align: right;\">\n",
       "      <th></th>\n",
       "      <th>archived</th>\n",
       "      <th>author</th>\n",
       "      <th>author_flair_css_class</th>\n",
       "      <th>author_flair_text</th>\n",
       "      <th>body</th>\n",
       "      <th>controversiality</th>\n",
       "      <th>created_utc</th>\n",
       "      <th>distinguished</th>\n",
       "      <th>gilded</th>\n",
       "      <th>id</th>\n",
       "      <th>link_id</th>\n",
       "      <th>parent_id</th>\n",
       "      <th>retrieved_on</th>\n",
       "      <th>score</th>\n",
       "      <th>score_hidden</th>\n",
       "      <th>subreddit</th>\n",
       "      <th>subreddit_id</th>\n",
       "    </tr>\n",
       "  </thead>\n",
       "  <tbody>\n",
       "    <tr>\n",
       "      <th>0</th>\n",
       "      <td>False</td>\n",
       "      <td>mhh44</td>\n",
       "      <td>noob</td>\n",
       "      <td>redditor for 2 weeks</td>\n",
       "      <td>You can see this interactive tableau to play w...</td>\n",
       "      <td>0</td>\n",
       "      <td>1526256015</td>\n",
       "      <td>NaN</td>\n",
       "      <td>0</td>\n",
       "      <td>dyxn37d</td>\n",
       "      <td>t3_8j5kn6</td>\n",
       "      <td>t1_dyxjk6q</td>\n",
       "      <td>1527431609</td>\n",
       "      <td>1</td>\n",
       "      <td>False</td>\n",
       "      <td>Bitcoin</td>\n",
       "      <td>t5_2s3qj</td>\n",
       "    </tr>\n",
       "    <tr>\n",
       "      <th>1</th>\n",
       "      <td>False</td>\n",
       "      <td>TheGreatMuffin</td>\n",
       "      <td>NaN</td>\n",
       "      <td>NaN</td>\n",
       "      <td>They would fork themselves off the bitcoin net...</td>\n",
       "      <td>0</td>\n",
       "      <td>1526256250</td>\n",
       "      <td>NaN</td>\n",
       "      <td>0</td>\n",
       "      <td>dyxna22</td>\n",
       "      <td>t3_8j7w9x</td>\n",
       "      <td>t3_8j7w9x</td>\n",
       "      <td>1527431710</td>\n",
       "      <td>3</td>\n",
       "      <td>False</td>\n",
       "      <td>Bitcoin</td>\n",
       "      <td>t5_2s3qj</td>\n",
       "    </tr>\n",
       "    <tr>\n",
       "      <th>2</th>\n",
       "      <td>False</td>\n",
       "      <td>big_fig</td>\n",
       "      <td>NaN</td>\n",
       "      <td>NaN</td>\n",
       "      <td>It's actually infinite, because degrees work w...</td>\n",
       "      <td>0</td>\n",
       "      <td>1527552736</td>\n",
       "      <td>NaN</td>\n",
       "      <td>0</td>\n",
       "      <td>dzqh8ol</td>\n",
       "      <td>t3_8mq7ll</td>\n",
       "      <td>t1_dzqa9uj</td>\n",
       "      <td>1528078027</td>\n",
       "      <td>2</td>\n",
       "      <td>False</td>\n",
       "      <td>Bitcoin</td>\n",
       "      <td>t5_2s3qj</td>\n",
       "    </tr>\n",
       "    <tr>\n",
       "      <th>3</th>\n",
       "      <td>False</td>\n",
       "      <td>ThomasBlood</td>\n",
       "      <td>noob</td>\n",
       "      <td>redditor for 3 days</td>\n",
       "      <td>That is a big issue and I'm not sure if it wil...</td>\n",
       "      <td>0</td>\n",
       "      <td>1526169618</td>\n",
       "      <td>NaN</td>\n",
       "      <td>0</td>\n",
       "      <td>dyvw58w</td>\n",
       "      <td>t3_8ivxsj</td>\n",
       "      <td>t1_dyvvre7</td>\n",
       "      <td>1527398120</td>\n",
       "      <td>1</td>\n",
       "      <td>False</td>\n",
       "      <td>Bitcoin</td>\n",
       "      <td>t5_2s3qj</td>\n",
       "    </tr>\n",
       "    <tr>\n",
       "      <th>4</th>\n",
       "      <td>False</td>\n",
       "      <td>Oracle_of_Knowledge</td>\n",
       "      <td>NaN</td>\n",
       "      <td>NaN</td>\n",
       "      <td>To put a finer point on it, you are talking ab...</td>\n",
       "      <td>0</td>\n",
       "      <td>1527379471</td>\n",
       "      <td>NaN</td>\n",
       "      <td>0</td>\n",
       "      <td>dzmuluv</td>\n",
       "      <td>t3_8md3uc</td>\n",
       "      <td>t1_dzmsob2</td>\n",
       "      <td>1528002748</td>\n",
       "      <td>14</td>\n",
       "      <td>False</td>\n",
       "      <td>Bitcoin</td>\n",
       "      <td>t5_2s3qj</td>\n",
       "    </tr>\n",
       "  </tbody>\n",
       "</table>\n",
       "</div>"
      ],
      "text/plain": [
       "   archived               author author_flair_css_class     author_flair_text  \\\n",
       "0     False                mhh44                   noob  redditor for 2 weeks   \n",
       "1     False       TheGreatMuffin                    NaN                   NaN   \n",
       "2     False              big_fig                    NaN                   NaN   \n",
       "3     False          ThomasBlood                   noob   redditor for 3 days   \n",
       "4     False  Oracle_of_Knowledge                    NaN                   NaN   \n",
       "\n",
       "                                                body  controversiality  \\\n",
       "0  You can see this interactive tableau to play w...                 0   \n",
       "1  They would fork themselves off the bitcoin net...                 0   \n",
       "2  It's actually infinite, because degrees work w...                 0   \n",
       "3  That is a big issue and I'm not sure if it wil...                 0   \n",
       "4  To put a finer point on it, you are talking ab...                 0   \n",
       "\n",
       "   created_utc distinguished  gilded       id    link_id   parent_id  \\\n",
       "0   1526256015           NaN       0  dyxn37d  t3_8j5kn6  t1_dyxjk6q   \n",
       "1   1526256250           NaN       0  dyxna22  t3_8j7w9x   t3_8j7w9x   \n",
       "2   1527552736           NaN       0  dzqh8ol  t3_8mq7ll  t1_dzqa9uj   \n",
       "3   1526169618           NaN       0  dyvw58w  t3_8ivxsj  t1_dyvvre7   \n",
       "4   1527379471           NaN       0  dzmuluv  t3_8md3uc  t1_dzmsob2   \n",
       "\n",
       "   retrieved_on  score  score_hidden subreddit subreddit_id  \n",
       "0    1527431609      1         False   Bitcoin     t5_2s3qj  \n",
       "1    1527431710      3         False   Bitcoin     t5_2s3qj  \n",
       "2    1528078027      2         False   Bitcoin     t5_2s3qj  \n",
       "3    1527398120      1         False   Bitcoin     t5_2s3qj  \n",
       "4    1528002748     14         False   Bitcoin     t5_2s3qj  "
      ]
     },
     "execution_count": 2,
     "metadata": {},
     "output_type": "execute_result"
    }
   ],
   "source": [
    "bitcoin_reddit_comments = pd.read_json('/Users/jonathandawson/Downloads/comments_2018_05.json', lines=True)\n",
    "print(bitcoin_reddit_comments.shape)\n",
    "bitcoin_reddit_comments.head()"
   ]
  },
  {
   "cell_type": "code",
   "execution_count": 807,
   "metadata": {},
   "outputs": [],
   "source": [
    "from pymongo import MongoClient"
   ]
  },
  {
   "cell_type": "code",
   "execution_count": 808,
   "metadata": {},
   "outputs": [],
   "source": [
    "client = MongoClient()\n",
    "db = client.bitcoin_project\n",
    "reddit_collection = db.reddit"
   ]
  },
  {
   "cell_type": "code",
   "execution_count": 835,
   "metadata": {},
   "outputs": [
    {
     "data": {
      "text/plain": [
       "0"
      ]
     },
     "execution_count": 835,
     "metadata": {},
     "output_type": "execute_result"
    }
   ],
   "source": [
    "reddit_collection.count_documents({})"
   ]
  },
  {
   "cell_type": "code",
   "execution_count": 824,
   "metadata": {},
   "outputs": [],
   "source": [
    "import json"
   ]
  },
  {
   "cell_type": "code",
   "execution_count": 838,
   "metadata": {},
   "outputs": [
    {
     "name": "stdout",
     "output_type": "stream",
     "text": [
      "[{'body': 'You can see this interactive tableau to play with the tool. https://public.tableau.com/profile/mohammed.hemayed#!/vizhome/Alldatasets/Bitcoin?publish=yes\\nIn addition, the price lag everyone is talking about is just adjusting to the actual change in price. Basically, we look at the price yesterday, and I tell you that based on the reach of positive and negative tweets, I expect the price to increase/decrease by a certain amount. \\n', 'score_hidden': False, 'archived': False, 'author': 'mhh44', 'author_flair_text': 'redditor for 2 weeks', 'created_utc': '1526256015', 'subreddit_id': 't5_2s3qj', 'link_id': 't3_8j5kn6', 'parent_id': 't1_dyxjk6q', 'score': '1', 'retrieved_on': '1527431609', 'controversiality': '0', 'gilded': '0', 'id': 'dyxn37d', 'subreddit': 'Bitcoin', 'author_flair_css_class': 'noob'}, {'body': 'They would fork themselves off the bitcoin network and lose a lot of money with wasted electricity, as user nodes would simply reject the miners change of rules.', 'score_hidden': False, 'archived': False, 'author': 'TheGreatMuffin', 'created_utc': '1526256250', 'subreddit_id': 't5_2s3qj', 'link_id': 't3_8j7w9x', 'parent_id': 't3_8j7w9x', 'score': '3', 'retrieved_on': '1527431710', 'controversiality': '0', 'gilded': '0', 'id': 'dyxna22', 'subreddit': 'Bitcoin'}]\n",
      "104822\n"
     ]
    }
   ],
   "source": [
    "with open('/Users/jonathandawson/Downloads/comments_2018_05.json') as f:\n",
    "    lines = [json.loads(line.rstrip()) for line in f.readlines()]\n",
    "    print(lines[:2])\n",
    "    result_comments = reddit_collection.insert_many(lines)\n",
    "    print(len(result_comments.inserted_ids))"
   ]
  },
  {
   "cell_type": "code",
   "execution_count": 839,
   "metadata": {},
   "outputs": [
    {
     "data": {
      "text/plain": [
       "104822"
      ]
     },
     "execution_count": 839,
     "metadata": {},
     "output_type": "execute_result"
    }
   ],
   "source": [
    "reddit_collection.count_documents({})"
   ]
  },
  {
   "cell_type": "code",
   "execution_count": 851,
   "metadata": {},
   "outputs": [
    {
     "data": {
      "text/html": [
       "<div>\n",
       "<style scoped>\n",
       "    .dataframe tbody tr th:only-of-type {\n",
       "        vertical-align: middle;\n",
       "    }\n",
       "\n",
       "    .dataframe tbody tr th {\n",
       "        vertical-align: top;\n",
       "    }\n",
       "\n",
       "    .dataframe thead th {\n",
       "        text-align: right;\n",
       "    }\n",
       "</style>\n",
       "<table border=\"1\" class=\"dataframe\">\n",
       "  <thead>\n",
       "    <tr style=\"text-align: right;\">\n",
       "      <th></th>\n",
       "      <th>archived</th>\n",
       "      <th>author</th>\n",
       "      <th>author_flair_css_class</th>\n",
       "      <th>author_flair_text</th>\n",
       "      <th>body</th>\n",
       "      <th>controversiality</th>\n",
       "      <th>created_utc</th>\n",
       "      <th>distinguished</th>\n",
       "      <th>gilded</th>\n",
       "      <th>id</th>\n",
       "      <th>link_id</th>\n",
       "      <th>parent_id</th>\n",
       "      <th>retrieved_on</th>\n",
       "      <th>score</th>\n",
       "      <th>score_hidden</th>\n",
       "      <th>subreddit</th>\n",
       "      <th>subreddit_id</th>\n",
       "    </tr>\n",
       "  </thead>\n",
       "  <tbody>\n",
       "    <tr>\n",
       "      <th>60850</th>\n",
       "      <td>False</td>\n",
       "      <td>I_AM_FENWICK</td>\n",
       "      <td>noob</td>\n",
       "      <td>redditor for 3 months</td>\n",
       "      <td>This is the exact problem. Everyone treats Bit...</td>\n",
       "      <td>0</td>\n",
       "      <td>1525734893</td>\n",
       "      <td>NaN</td>\n",
       "      <td>0</td>\n",
       "      <td>dym1nzh</td>\n",
       "      <td>t3_8hpa0b</td>\n",
       "      <td>t1_dym0amh</td>\n",
       "      <td>1527201945</td>\n",
       "      <td>0</td>\n",
       "      <td>False</td>\n",
       "      <td>Bitcoin</td>\n",
       "      <td>t5_2s3qj</td>\n",
       "    </tr>\n",
       "    <tr>\n",
       "      <th>32639</th>\n",
       "      <td>False</td>\n",
       "      <td>walloon5</td>\n",
       "      <td>NaN</td>\n",
       "      <td>NaN</td>\n",
       "      <td>Or yeah in India where surprise overnight 500 ...</td>\n",
       "      <td>0</td>\n",
       "      <td>1527258473</td>\n",
       "      <td>NaN</td>\n",
       "      <td>0</td>\n",
       "      <td>dzk5m72</td>\n",
       "      <td>t3_8ltb6c</td>\n",
       "      <td>t1_dzie6tf</td>\n",
       "      <td>1527945824</td>\n",
       "      <td>2</td>\n",
       "      <td>False</td>\n",
       "      <td>Bitcoin</td>\n",
       "      <td>t5_2s3qj</td>\n",
       "    </tr>\n",
       "    <tr>\n",
       "      <th>30505</th>\n",
       "      <td>False</td>\n",
       "      <td>Stayathomepyrat</td>\n",
       "      <td>NaN</td>\n",
       "      <td>NaN</td>\n",
       "      <td>and? look at january... you are saying that de...</td>\n",
       "      <td>0</td>\n",
       "      <td>1526746512</td>\n",
       "      <td>NaN</td>\n",
       "      <td>0</td>\n",
       "      <td>dz8pq6z</td>\n",
       "      <td>t3_8kk4en</td>\n",
       "      <td>t1_dz8nuxe</td>\n",
       "      <td>1527704695</td>\n",
       "      <td>1</td>\n",
       "      <td>False</td>\n",
       "      <td>Bitcoin</td>\n",
       "      <td>t5_2s3qj</td>\n",
       "    </tr>\n",
       "    <tr>\n",
       "      <th>10077</th>\n",
       "      <td>False</td>\n",
       "      <td>brokendrive</td>\n",
       "      <td>NaN</td>\n",
       "      <td>NaN</td>\n",
       "      <td>Idk why you're comparing to having the cash si...</td>\n",
       "      <td>0</td>\n",
       "      <td>1526580927</td>\n",
       "      <td>NaN</td>\n",
       "      <td>0</td>\n",
       "      <td>dz565lr</td>\n",
       "      <td>t3_8k5wbh</td>\n",
       "      <td>t1_dz52wx7</td>\n",
       "      <td>1527582374</td>\n",
       "      <td>1</td>\n",
       "      <td>False</td>\n",
       "      <td>Bitcoin</td>\n",
       "      <td>t5_2s3qj</td>\n",
       "    </tr>\n",
       "    <tr>\n",
       "      <th>69923</th>\n",
       "      <td>False</td>\n",
       "      <td>[deleted]</td>\n",
       "      <td>NaN</td>\n",
       "      <td>NaN</td>\n",
       "      <td>[deleted]</td>\n",
       "      <td>0</td>\n",
       "      <td>1525418585</td>\n",
       "      <td>NaN</td>\n",
       "      <td>0</td>\n",
       "      <td>dyfeyqr</td>\n",
       "      <td>t3_8gt06k</td>\n",
       "      <td>t1_dyeyz92</td>\n",
       "      <td>1527064453</td>\n",
       "      <td>1</td>\n",
       "      <td>False</td>\n",
       "      <td>Bitcoin</td>\n",
       "      <td>t5_2s3qj</td>\n",
       "    </tr>\n",
       "  </tbody>\n",
       "</table>\n",
       "</div>"
      ],
      "text/plain": [
       "       archived           author author_flair_css_class  \\\n",
       "60850     False     I_AM_FENWICK                   noob   \n",
       "32639     False         walloon5                    NaN   \n",
       "30505     False  Stayathomepyrat                    NaN   \n",
       "10077     False      brokendrive                    NaN   \n",
       "69923     False        [deleted]                    NaN   \n",
       "\n",
       "           author_flair_text  \\\n",
       "60850  redditor for 3 months   \n",
       "32639                    NaN   \n",
       "30505                    NaN   \n",
       "10077                    NaN   \n",
       "69923                    NaN   \n",
       "\n",
       "                                                    body controversiality  \\\n",
       "60850  This is the exact problem. Everyone treats Bit...                0   \n",
       "32639  Or yeah in India where surprise overnight 500 ...                0   \n",
       "30505  and? look at january... you are saying that de...                0   \n",
       "10077  Idk why you're comparing to having the cash si...                0   \n",
       "69923                                          [deleted]                0   \n",
       "\n",
       "      created_utc distinguished gilded       id    link_id   parent_id  \\\n",
       "60850  1525734893           NaN      0  dym1nzh  t3_8hpa0b  t1_dym0amh   \n",
       "32639  1527258473           NaN      0  dzk5m72  t3_8ltb6c  t1_dzie6tf   \n",
       "30505  1526746512           NaN      0  dz8pq6z  t3_8kk4en  t1_dz8nuxe   \n",
       "10077  1526580927           NaN      0  dz565lr  t3_8k5wbh  t1_dz52wx7   \n",
       "69923  1525418585           NaN      0  dyfeyqr  t3_8gt06k  t1_dyeyz92   \n",
       "\n",
       "      retrieved_on score  score_hidden subreddit subreddit_id  \n",
       "60850   1527201945     0         False   Bitcoin     t5_2s3qj  \n",
       "32639   1527945824     2         False   Bitcoin     t5_2s3qj  \n",
       "30505   1527704695     1         False   Bitcoin     t5_2s3qj  \n",
       "10077   1527582374     1         False   Bitcoin     t5_2s3qj  \n",
       "69923   1527064453     1         False   Bitcoin     t5_2s3qj  "
      ]
     },
     "execution_count": 851,
     "metadata": {},
     "output_type": "execute_result"
    }
   ],
   "source": [
    "bitcoin_reddit_comments = pd.DataFrame(list(reddit_collection.find())).drop(columns=['_id']).sample(10000)\n",
    "bitcoin_reddit_comments.head()"
   ]
  },
  {
   "cell_type": "code",
   "execution_count": 3,
   "metadata": {},
   "outputs": [
    {
     "data": {
      "text/plain": [
       "0    You can see this interactive tableau to play w...\n",
       "1    They would fork themselves off the bitcoin net...\n",
       "2    It's actually infinite, because degrees work w...\n",
       "3    That is a big issue and I'm not sure if it wil...\n",
       "4    To put a finer point on it, you are talking ab...\n",
       "Name: body, dtype: object"
      ]
     },
     "execution_count": 3,
     "metadata": {},
     "output_type": "execute_result"
    }
   ],
   "source": [
    "comments = bitcoin_reddit_comments.body\n",
    "comments.head()"
   ]
  },
  {
   "cell_type": "code",
   "execution_count": 4,
   "metadata": {},
   "outputs": [
    {
     "data": {
      "text/plain": [
       "81629    If you open a store front and invite anyone an...\n",
       "87997    &gt;So what? It still puts the numbers in cont...\n",
       "52498           Yeah I know - I was being a bit sarcastic.\n",
       "78366    The trademark in question is here: https://tra...\n",
       "4613     No we wont, thats the whole point of the unkno...\n",
       "Name: body, dtype: object"
      ]
     },
     "execution_count": 4,
     "metadata": {},
     "output_type": "execute_result"
    }
   ],
   "source": [
    "comments_sample = comments.sample(10000).str.replace('\\n', ' ')\n",
    "comments_sample[:5]"
   ]
  },
  {
   "cell_type": "code",
   "execution_count": 5,
   "metadata": {},
   "outputs": [
    {
     "data": {
      "text/plain": [
       "array(['HL3 confirmed.', 'When governments talk about blockchain  ',\n",
       "       'Aids',\n",
       "       'I tried that today too and then got an email from coinbase saying \"It looks like your bank account information on Coinbase is out of date, and can no longer be used for instant purchases. In some cases, this happens when your bank\\'s security settings change.\" But still is processing so not sure if it will go through or not',\n",
       "       'Have you seen the transaction delay chart?    '], dtype=object)"
      ]
     },
     "execution_count": 5,
     "metadata": {},
     "output_type": "execute_result"
    }
   ],
   "source": [
    "#delete links and words starting with ^\n",
    "comments_sample = comments_sample.str.replace(r'http\\S*', '').str.replace(r'\\^\\S*', '')\n",
    "comments_sample.sample(5).values"
   ]
  },
  {
   "cell_type": "code",
   "execution_count": 6,
   "metadata": {},
   "outputs": [
    {
     "data": {
      "text/plain": [
       "(9939,)"
      ]
     },
     "execution_count": 6,
     "metadata": {},
     "output_type": "execute_result"
    }
   ],
   "source": [
    "comments_sample = comments_sample[\n",
    "    comments_sample.str.contains(r'Your submission has been flagged for removal because')==False]\n",
    "comments_sample.shape"
   ]
  },
  {
   "cell_type": "code",
   "execution_count": 7,
   "metadata": {},
   "outputs": [
    {
     "name": "stdout",
     "output_type": "stream",
     "text": [
      "(9686,)\n",
      "(9288,)\n"
     ]
    },
    {
     "data": {
      "text/plain": [
       "81629    If you open a store front and invite anyone an...\n",
       "87997    &gt;So what? It still puts the numbers in cont...\n",
       "52498           Yeah I know - I was being a bit sarcastic.\n",
       "78366    The trademark in question is here:   They have...\n",
       "4613     No we wont, thats the whole point of the unkno...\n",
       "Name: body, dtype: object"
      ]
     },
     "execution_count": 7,
     "metadata": {},
     "output_type": "execute_result"
    }
   ],
   "source": [
    "# delete the comments that were removed\n",
    "comments_filtered = comments_sample[comments_sample.str.contains('[removed]', regex=False)==False]\n",
    "print(comments_filtered.shape)\n",
    "comments_filtered = comments_filtered[comments_filtered.str.contains(r'deleted')==False]\n",
    "print(comments_filtered.shape)\n",
    "comments_filtered.head()\n"
   ]
  },
  {
   "cell_type": "code",
   "execution_count": 8,
   "metadata": {},
   "outputs": [
    {
     "data": {
      "text/plain": [
       "81629     If you open a store front and invite anyone an...\n",
       "87997     &gt;So what? It still puts the numbers in cont...\n",
       "52498            Yeah I know - I was being a bit sarcastic.\n",
       "78366     The trademark in question is here:   They have...\n",
       "4613      No we wont, thats the whole point of the unkno...\n",
       "104361        I bet Soros sold all his bitcoin for 10k each\n",
       "83996     The mind of a 90 year old doesnt work like tha...\n",
       "860       and Mercury is eclipsing Sagittarius so you kn...\n",
       "85714     No it’s not “always so”. You could use their s...\n",
       "53241          I take it as in opposition to insecurities. \n",
       "Name: body, dtype: object"
      ]
     },
     "execution_count": 8,
     "metadata": {},
     "output_type": "execute_result"
    }
   ],
   "source": [
    "#remove the emojis\n",
    "comments_filtered = comments_filtered.str.replace('�','')\n",
    "comments_filtered.head(10)"
   ]
  },
  {
   "cell_type": "code",
   "execution_count": 9,
   "metadata": {},
   "outputs": [
    {
     "data": {
      "text/plain": [
       "81629     If you open a store front and invite anyone an...\n",
       "87997     Lightning Network, beeyotch. Learn it, live it...\n",
       "52498            Yeah I know - I was being a bit sarcastic.\n",
       "78366     The trademark in question is here:   They have...\n",
       "4613      No we wont, thats the whole point of the unkno...\n",
       "104361        I bet Soros sold all his bitcoin for 10k each\n",
       "83996     The mind of a 90 year old doesnt work like tha...\n",
       "860       and Mercury is eclipsing Sagittarius so you kn...\n",
       "85714     No it’s not “always so”. You could use their s...\n",
       "53241          I take it as in opposition to insecurities. \n",
       "Name: body, dtype: object"
      ]
     },
     "execution_count": 9,
     "metadata": {},
     "output_type": "execute_result"
    }
   ],
   "source": [
    "# remove HTML character entities \n",
    "comments_filtered = comments_filtered.str.replace(r'&.*;', '')\n",
    "comments_filtered.head(10)"
   ]
  },
  {
   "cell_type": "code",
   "execution_count": 10,
   "metadata": {},
   "outputs": [],
   "source": [
    "# Text preprocessing steps - remove numbers, captial letters and punctuation\n",
    "import re\n",
    "import string\n",
    "\n",
    "alphanumeric = lambda x: re.sub('\\w*\\d\\w*', ' ', x)\n",
    "punc_lower = lambda x: re.sub('[%s]' % re.escape(string.punctuation), ' ', x.lower())"
   ]
  },
  {
   "cell_type": "code",
   "execution_count": 11,
   "metadata": {},
   "outputs": [
    {
     "data": {
      "text/plain": [
       "array(['why can t we discuss freely how bitcoin should scale   why i can t say that is wrong to bash anyone only because you don t like him her   why can t i oppose to mandatory side chains   why can t i think that a node without hash rate do not create consensus   why can t i have my opinion   why we allowed a community in the same path to split like this   so  why we can t have a no name calling and peaceful debate   if i get banned for this  will you believe me   there is no real good view  and no   true person  as these are too relative   even if my view is the most ignorant or incoherent view  we should have tolerance  we should educate each other  we should be discussing every point of bitcoin as a community   if you can t have a different opinion on bitcoin  that s censorship and  for me  that s worse than wrong  it can be dangerous ',\n",
       "       'buffet in his glass castle  this will not bother him at all  he already made billions from the traditional fiat system and will not turn his back on his rich boy club  ',\n",
       "       'get used to it  it ain t going away  ',\n",
       "       'enough with the shitposting  fucking  enough    to be fair  this is the funniest shitposting i ve seen in a while  but seriously  enough    take it to  r bitcoinshitposting ',\n",
       "       'you should constantly price all at     btc ',\n",
       "       'you guys should try crypterium  look for it  ',\n",
       "       ' amazon is great with returns so no need for a third party   amazon is the third party  you and the other sellers are the first two parties  amazon mediates the transaction and handles any disputes chargebacks  if you use purse io  purse takes over that role  but uses bitcoins instead of dollars   re     cash back  you ll get no argument from me there     cash back rewards are awesome ',\n",
       "       'i mean operate without being able to benefit from government regulation  like how file sharing circumvented the the effectiveness of ip law  which was just a way for companies to take in revenue without adding value    no  exchanges aren’t totally honest  but we’re still in the early adoption phase  dishonest exchanges will eventually change or fail because they won’t have any way of forcing people to do business with them ',\n",
       "       'lending services aren t going anywhere and neither are governments wanting to control their monetary policy ',\n",
       "       'in an economic environment with multiple currencies  wouldn t people use the one that was best suited to a specific use case  trying to steer economic activity towards a currency just because it has desirable macro properties seems like a losing bet '],\n",
       "      dtype=object)"
      ]
     },
     "execution_count": 11,
     "metadata": {},
     "output_type": "execute_result"
    }
   ],
   "source": [
    "comments_preprocessed = comments_filtered.map(alphanumeric).map(punc_lower)\n",
    "comments_preprocessed.sample(10).values"
   ]
  },
  {
   "cell_type": "code",
   "execution_count": 12,
   "metadata": {},
   "outputs": [],
   "source": [
    "comments_preprocessed = comments_preprocessed[comments_preprocessed.str.contains('guantanamo')==False]"
   ]
  },
  {
   "cell_type": "code",
   "execution_count": 13,
   "metadata": {},
   "outputs": [],
   "source": [
    "from sklearn.feature_extraction.text import CountVectorizer, TfidfVectorizer"
   ]
  },
  {
   "cell_type": "code",
   "execution_count": 14,
   "metadata": {},
   "outputs": [],
   "source": [
    "# add more stop words\n",
    "from sklearn.feature_extraction.stop_words import ENGLISH_STOP_WORDS\n",
    "from nltk.corpus import stopwords\n",
    "from sklearn.feature_extraction import text"
   ]
  },
  {
   "cell_type": "code",
   "execution_count": 611,
   "metadata": {},
   "outputs": [],
   "source": [
    "stop_words = text.ENGLISH_STOP_WORDS.union(['people', 'just', 'like', 'org', 'lol', 'thank', 'thanks',\n",
    "                                           'man', 'oh', 'com'])\n",
    "STOPLIST = set(stopwords.words('english') + list(stop_words))"
   ]
  },
  {
   "cell_type": "code",
   "execution_count": 783,
   "metadata": {},
   "outputs": [],
   "source": [
    "# standard format\n",
    "#vectorizer = CountVectorizer(min_df = 5, max_df=.6, stop_words=stop_words)\n",
    "vectorizer = TfidfVectorizer(min_df = 6, max_df=.01, stop_words=stop_words)\n",
    "\n",
    "dtm = vectorizer.fit_transform(comments_preprocessed.tolist())"
   ]
  },
  {
   "cell_type": "code",
   "execution_count": 784,
   "metadata": {},
   "outputs": [
    {
     "data": {
      "text/plain": [
       "(9288, 2857)"
      ]
     },
     "execution_count": 784,
     "metadata": {},
     "output_type": "execute_result"
    }
   ],
   "source": [
    "dtm.shape"
   ]
  },
  {
   "cell_type": "code",
   "execution_count": 771,
   "metadata": {},
   "outputs": [],
   "source": [
    "from sklearn.decomposition import TruncatedSVD\n",
    "from sklearn.preprocessing import Normalizer"
   ]
  },
  {
   "cell_type": "code",
   "execution_count": 785,
   "metadata": {},
   "outputs": [],
   "source": [
    "# Fit LSA. Use algorithm = “randomized” for large datasets \n",
    "lsa = TruncatedSVD(5, algorithm = 'randomized')\n",
    "dtm_lsa = lsa.fit_transform(dtm)\n",
    "dtm_lsa = Normalizer(copy=False).fit_transform(dtm_lsa)"
   ]
  },
  {
   "cell_type": "code",
   "execution_count": 773,
   "metadata": {},
   "outputs": [],
   "source": [
    "def display_topics(model, feature_names, no_top_words, topic_names=None):\n",
    "    for ix, topic in enumerate(model.components_):\n",
    "        if not topic_names or not topic_names[ix]:\n",
    "            print(\"\\nTopic \", ix)\n",
    "        else:\n",
    "            print(\"\\nTopic: '\",topic_names[ix],\"'\")\n",
    "        print(\", \".join([feature_names[i]\n",
    "                        for i in topic.argsort()[:-no_top_words - 1:-1]]))"
   ]
  },
  {
   "cell_type": "code",
   "execution_count": 786,
   "metadata": {},
   "outputs": [
    {
     "name": "stdout",
     "output_type": "stream",
     "text": [
      "\n",
      "Topic  0\n",
      "bought, ok, usd, inflation, sub, wait, source, scam, days, satoshi, link, today, chain, months, roger, ago, guys, nodes, hodl, technology\n",
      "\n",
      "Topic  1\n",
      "page, topic, submissions, submitted, bar, previous, search, roger, link, ver, looks, guys, cool, question, sub, hodl, comment, submission, reddit, core\n",
      "\n",
      "Topic  2\n",
      "roger, ver, scam, sub, fucking, coinbase, core, wow, send, care, wait, site, guys, link, sounds, god, poor, consensus, watch, shitcoin\n",
      "\n",
      "Topic  3\n",
      "link, source, scam, word, inflation, site, video, send, article, info, non, cool, wow, mobile, store, correct, looks, care, usd, provide\n",
      "\n",
      "Topic  4\n",
      "hodl, link, source, bought, inflation, moon, ok, usd, months, sold, days, roger, bit, ago, lambo, deflation, original, dip, wow, till\n"
     ]
    }
   ],
   "source": [
    "display_topics(lsa, vectorizer.get_feature_names(), 20)\n"
   ]
  },
  {
   "cell_type": "code",
   "execution_count": 29,
   "metadata": {},
   "outputs": [
    {
     "name": "stdout",
     "output_type": "stream",
     "text": [
      "[t-SNE] Computing 91 nearest neighbors...\n",
      "[t-SNE] Indexed 9288 samples in 0.016s...\n",
      "[t-SNE] Computed neighbors for 9288 samples in 0.480s...\n",
      "[t-SNE] Computed conditional probabilities for sample 1000 / 9288\n",
      "[t-SNE] Computed conditional probabilities for sample 2000 / 9288\n",
      "[t-SNE] Computed conditional probabilities for sample 3000 / 9288\n",
      "[t-SNE] Computed conditional probabilities for sample 4000 / 9288\n",
      "[t-SNE] Computed conditional probabilities for sample 5000 / 9288\n",
      "[t-SNE] Computed conditional probabilities for sample 6000 / 9288\n",
      "[t-SNE] Computed conditional probabilities for sample 7000 / 9288\n",
      "[t-SNE] Computed conditional probabilities for sample 8000 / 9288\n",
      "[t-SNE] Computed conditional probabilities for sample 9000 / 9288\n",
      "[t-SNE] Computed conditional probabilities for sample 9288 / 9288\n",
      "[t-SNE] Mean sigma: 0.000000\n",
      "[t-SNE] KL divergence after 250 iterations with early exaggeration: 76.349831\n",
      "[t-SNE] KL divergence after 1000 iterations: 1.153295\n"
     ]
    }
   ],
   "source": [
    "from sklearn.manifold import TSNE\n",
    "\n",
    "# a t-SNE model\n",
    "# angle value close to 1 means sacrificing accuracy for speed\n",
    "# pca initializtion usually leads to better results \n",
    "tsne_model = TSNE(n_components=2, verbose=1, random_state=0, angle=.99, init='pca')\n",
    "\n",
    "# 20-D -> 2-D\n",
    "tsne_lsa = tsne_model.fit_transform(dtm_lsa)"
   ]
  },
  {
   "cell_type": "code",
   "execution_count": 30,
   "metadata": {},
   "outputs": [],
   "source": [
    "import numpy as np\n",
    "import bokeh.plotting as bp\n",
    "from bokeh.plotting import save, show\n",
    "from bokeh.models import HoverTool\n",
    "\n",
    "n_top_words = 5 # number of keywords we show\n",
    "\n",
    "# 20 colors\n",
    "colormap = np.array([\n",
    "    \"#1f77b4\", \"#aec7e8\", \"#ff7f0e\", \"#ffbb78\", \"#2ca02c\",\n",
    "    \"#98df8a\", \"#d62728\", \"#ff9896\", \"#9467bd\", \"#c5b0d5\",\n",
    "    \"#8c564b\", \"#c49c94\", \"#e377c2\", \"#f7b6d2\", \"#7f7f7f\",\n",
    "    \"#c7c7c7\", \"#bcbd22\", \"#dbdb8d\", \"#17becf\", \"#9edae5\"\n",
    "])"
   ]
  },
  {
   "cell_type": "code",
   "execution_count": 31,
   "metadata": {},
   "outputs": [
    {
     "data": {
      "text/plain": [
       "9288"
      ]
     },
     "execution_count": 31,
     "metadata": {},
     "output_type": "execute_result"
    }
   ],
   "source": [
    "_lsa_keys = []\n",
    "for i in range(dtm_lsa.shape[0]):\n",
    "    _lsa_keys +=  dtm_lsa[i].argmax(),\n",
    "len(_lsa_keys)"
   ]
  },
  {
   "cell_type": "code",
   "execution_count": 32,
   "metadata": {},
   "outputs": [
    {
     "data": {
      "text/plain": [
       "array([0.00102383, 0.00182321, 0.00444871, ..., 0.01945435, 0.00426529,\n",
       "       0.00113406])"
      ]
     },
     "execution_count": 32,
     "metadata": {},
     "output_type": "execute_result"
    }
   ],
   "source": [
    "lsa.components_[0]"
   ]
  },
  {
   "cell_type": "code",
   "execution_count": 33,
   "metadata": {},
   "outputs": [],
   "source": [
    "topic_summaries = []\n",
    "topic_word = lsa.components_  # all topic words\n",
    "vocab = vectorizer.get_feature_names()\n",
    "for i, topic_dist in enumerate(topic_word):\n",
    "    topic_words = np.array(vocab)[np.argsort(topic_dist)][:-(n_top_words + 1):-1] # get!\n",
    "    topic_summaries.append(' '.join(topic_words)) # append!"
   ]
  },
  {
   "cell_type": "code",
   "execution_count": 34,
   "metadata": {},
   "outputs": [],
   "source": [
    "title = 'lsa visualization'\n",
    "num_example = len(dtm_lsa)\n",
    "\n",
    "plot_lsa = bp.figure(plot_width=1400, plot_height=1100,\n",
    "                     title=title,\n",
    "                     tools=\"pan,wheel_zoom,box_zoom,reset,hover,previewsave\",\n",
    "                     x_axis_type=None, y_axis_type=None, min_border=1)\n",
    "\n",
    "plot_lsa.scatter(x=tsne_lsa[:, 0], y=tsne_lsa[:, 1],\n",
    "                 color=colormap[_lsa_keys][:num_example])\n",
    "show(plot_lsa)"
   ]
  },
  {
   "cell_type": "code",
   "execution_count": 35,
   "metadata": {},
   "outputs": [],
   "source": [
    "from sklearn.cluster import KMeans"
   ]
  },
  {
   "cell_type": "code",
   "execution_count": 54,
   "metadata": {},
   "outputs": [],
   "source": [
    "kmeans = KMeans(n_clusters=5)\n",
    "kmeans.fit(dtm_lsa)\n",
    "labels = kmeans.predict(dtm_lsa)"
   ]
  },
  {
   "cell_type": "code",
   "execution_count": 55,
   "metadata": {},
   "outputs": [
    {
     "data": {
      "text/plain": [
       "(array([0, 1, 2, 3, 4], dtype=int32), array([3697, 1304,  704,  670, 2913]))"
      ]
     },
     "execution_count": 55,
     "metadata": {},
     "output_type": "execute_result"
    }
   ],
   "source": [
    "np.unique(labels, return_counts=True)"
   ]
  },
  {
   "cell_type": "code",
   "execution_count": 77,
   "metadata": {},
   "outputs": [
    {
     "data": {
      "text/plain": [
       "array([0, 4, 4, 4, 1], dtype=int32)"
      ]
     },
     "execution_count": 77,
     "metadata": {},
     "output_type": "execute_result"
    }
   ],
   "source": [
    "np.random.choice(labels, 5)"
   ]
  },
  {
   "cell_type": "code",
   "execution_count": 40,
   "metadata": {},
   "outputs": [],
   "source": [
    "from tsne import bh_sne\n",
    "import matplotlib.pyplot as plt"
   ]
  },
  {
   "cell_type": "code",
   "execution_count": 38,
   "metadata": {},
   "outputs": [],
   "source": [
    "vis_data = bh_sne(dtm_lsa)"
   ]
  },
  {
   "cell_type": "code",
   "execution_count": 302,
   "metadata": {},
   "outputs": [
    {
     "data": {
      "image/png": "[encoded data removed]",
      "text/plain": [
       "<Figure size 432x288 with 2 Axes>"
      ]
     },
     "metadata": {},
     "output_type": "display_data"
    }
   ],
   "source": [
    "# plot the result\n",
    "vis_x = vis_data[:, 0]\n",
    "vis_y = vis_data[:, 1]\n",
    "plt.scatter(vis_x, vis_y, c=labels, cmap=plt.cm.get_cmap(\"Dark2\"))\n",
    "plt.colorbar(boundaries=[0,1,2,3,4])\n",
    "plt.clim(-0.5, 9.5)\n",
    "plt.savefig('tsne.jpg', dpi=300)\n",
    "plt.show()\n"
   ]
  },
  {
   "cell_type": "code",
   "execution_count": 284,
   "metadata": {},
   "outputs": [],
   "source": [
    "# #this didn't work\n",
    "\n",
    "# # randomly choose a news (within a topic) coordinate as the crucial words coordinate\n",
    "# topic_coord = np.empty((dtm_lsa.shape[1], 2)) * np.nan\n",
    "# for topic_num in _lsa_keys:\n",
    "#     if not np.isnan(topic_coord).any():\n",
    "#         break\n",
    "#     topic_coord[topic_num] = tsne_lsa[_lsa_keys.index(topic_num)]\n",
    "\n",
    "# # plot crucial words\n",
    "# for i in range(dtm_lsa.shape[1]):\n",
    "#     plot_lsa.text(topic_coord[i, 0], topic_coord[i, 1], [topic_summaries[i]])\n",
    "\n",
    "# # hover tools\n",
    "# hover = plot_lsa.select(dict(type=HoverTool))\n",
    "# hover.tooltips = {\"content\": \"@content - topic: @topic_key\"}\n",
    "\n",
    "\n"
   ]
  },
  {
   "cell_type": "code",
   "execution_count": 252,
   "metadata": {},
   "outputs": [
    {
     "data": {
      "image/png": "[encoded data removed]",
      "text/plain": [
       "<Figure size 1080x288 with 1 Axes>"
      ]
     },
     "metadata": {},
     "output_type": "display_data"
    }
   ],
   "source": [
    "from wordcloud import WordCloud, STOPWORDS\n",
    "import matplotlib.pyplot as plt\n",
    "\n",
    "\n",
    "# in this section you can just use stopwords I created my own stopwords 'add_stop_words'\n",
    "# HINT: Fork Alice's repo 'nlp-in-python-tutorial' to see how to add additional stop words can be created\n",
    "#stopwords = stop_words = text.ENGLISH_STOP_WORDS.union(add_stop_words)  \n",
    "wc = WordCloud(width=1600, height=800, \n",
    "               background_color='white', max_words=100, stopwords=STOPWORDS, colormap ='Dark2_r')\n",
    "wc.generate(' '.join(comments.sample(10000).str.replace('\\n', ' ').values.tolist()))\n",
    "wc.to_file('wordcloud.jpg')\n",
    "plt.figure(figsize=(15,4))\n",
    "plt.imshow(wc)\n",
    "plt.axis(\"off\")\n",
    "#plt.savefig(\"bitcoin_comments\"+\".png\", bbox_inches='tight', dpi=300)\n",
    "plt.title(\"Bitcoin Comments\", fontsize=30)\n",
    "plt.show()\n",
    "plt.close()"
   ]
  },
  {
   "cell_type": "code",
   "execution_count": 6,
   "metadata": {},
   "outputs": [],
   "source": [
    "#import spacy"
   ]
  },
  {
   "cell_type": "code",
   "execution_count": null,
   "metadata": {},
   "outputs": [],
   "source": []
  },
  {
   "cell_type": "code",
   "execution_count": 16,
   "metadata": {},
   "outputs": [],
   "source": [
    "#from spacy import displacy"
   ]
  },
  {
   "cell_type": "code",
   "execution_count": 8,
   "metadata": {},
   "outputs": [],
   "source": [
    "#nlp = spacy.load('en_core_web_sm')"
   ]
  },
  {
   "cell_type": "code",
   "execution_count": 17,
   "metadata": {},
   "outputs": [],
   "source": [
    "#doc = comments.apply(lambda x: nlp(x))"
   ]
  },
  {
   "cell_type": "code",
   "execution_count": 334,
   "metadata": {},
   "outputs": [
    {
     "data": {
      "text/html": [
       "<div>\n",
       "<style scoped>\n",
       "    .dataframe tbody tr th:only-of-type {\n",
       "        vertical-align: middle;\n",
       "    }\n",
       "\n",
       "    .dataframe tbody tr th {\n",
       "        vertical-align: top;\n",
       "    }\n",
       "\n",
       "    .dataframe thead th {\n",
       "        text-align: right;\n",
       "    }\n",
       "</style>\n",
       "<table border=\"1\" class=\"dataframe\">\n",
       "  <thead>\n",
       "    <tr style=\"text-align: right;\">\n",
       "      <th></th>\n",
       "      <th>Timestamp</th>\n",
       "      <th>Open</th>\n",
       "      <th>High</th>\n",
       "      <th>Low</th>\n",
       "      <th>Close</th>\n",
       "      <th>Volume_(BTC)</th>\n",
       "      <th>Volume_(Currency)</th>\n",
       "      <th>Weighted_Price</th>\n",
       "    </tr>\n",
       "  </thead>\n",
       "  <tbody>\n",
       "    <tr>\n",
       "      <th>0</th>\n",
       "      <td>1417411980</td>\n",
       "      <td>300.0</td>\n",
       "      <td>300.0</td>\n",
       "      <td>300.0</td>\n",
       "      <td>300.0</td>\n",
       "      <td>0.01</td>\n",
       "      <td>3.0</td>\n",
       "      <td>300.0</td>\n",
       "    </tr>\n",
       "    <tr>\n",
       "      <th>1</th>\n",
       "      <td>1417412040</td>\n",
       "      <td>NaN</td>\n",
       "      <td>NaN</td>\n",
       "      <td>NaN</td>\n",
       "      <td>NaN</td>\n",
       "      <td>NaN</td>\n",
       "      <td>NaN</td>\n",
       "      <td>NaN</td>\n",
       "    </tr>\n",
       "    <tr>\n",
       "      <th>2</th>\n",
       "      <td>1417412100</td>\n",
       "      <td>NaN</td>\n",
       "      <td>NaN</td>\n",
       "      <td>NaN</td>\n",
       "      <td>NaN</td>\n",
       "      <td>NaN</td>\n",
       "      <td>NaN</td>\n",
       "      <td>NaN</td>\n",
       "    </tr>\n",
       "    <tr>\n",
       "      <th>3</th>\n",
       "      <td>1417412160</td>\n",
       "      <td>NaN</td>\n",
       "      <td>NaN</td>\n",
       "      <td>NaN</td>\n",
       "      <td>NaN</td>\n",
       "      <td>NaN</td>\n",
       "      <td>NaN</td>\n",
       "      <td>NaN</td>\n",
       "    </tr>\n",
       "    <tr>\n",
       "      <th>4</th>\n",
       "      <td>1417412220</td>\n",
       "      <td>NaN</td>\n",
       "      <td>NaN</td>\n",
       "      <td>NaN</td>\n",
       "      <td>NaN</td>\n",
       "      <td>NaN</td>\n",
       "      <td>NaN</td>\n",
       "      <td>NaN</td>\n",
       "    </tr>\n",
       "  </tbody>\n",
       "</table>\n",
       "</div>"
      ],
      "text/plain": [
       "    Timestamp   Open   High    Low  Close  Volume_(BTC)  Volume_(Currency)  \\\n",
       "0  1417411980  300.0  300.0  300.0  300.0          0.01                3.0   \n",
       "1  1417412040    NaN    NaN    NaN    NaN           NaN                NaN   \n",
       "2  1417412100    NaN    NaN    NaN    NaN           NaN                NaN   \n",
       "3  1417412160    NaN    NaN    NaN    NaN           NaN                NaN   \n",
       "4  1417412220    NaN    NaN    NaN    NaN           NaN                NaN   \n",
       "\n",
       "   Weighted_Price  \n",
       "0           300.0  \n",
       "1             NaN  \n",
       "2             NaN  \n",
       "3             NaN  \n",
       "4             NaN  "
      ]
     },
     "execution_count": 334,
     "metadata": {},
     "output_type": "execute_result"
    }
   ],
   "source": [
    "# price = pd.read_csv('/Users/jonathandawson/Downloads/coinbaseUSD_1-min_data_2014-12-01_to_2018-11-11.csv')\n",
    "# price.head()"
   ]
  },
  {
   "cell_type": "code",
   "execution_count": 336,
   "metadata": {},
   "outputs": [],
   "source": [
    "# price.dropna(inplace=True)"
   ]
  },
  {
   "cell_type": "code",
   "execution_count": 337,
   "metadata": {},
   "outputs": [
    {
     "data": {
      "text/plain": [
       "(1907397, 8)"
      ]
     },
     "execution_count": 337,
     "metadata": {},
     "output_type": "execute_result"
    }
   ],
   "source": [
    "# price.shape"
   ]
  },
  {
   "cell_type": "code",
   "execution_count": 346,
   "metadata": {},
   "outputs": [
    {
     "name": "stdout",
     "output_type": "stream",
     "text": [
      "1522540800\n",
      "1527811199\n"
     ]
    }
   ],
   "source": [
    "!date -j -f \"%D %X %Z\" \"04/01/18 00:00:00 GMT\" \"+%s\"\n",
    "!date -j -f \"%D %X %Z\" \"05/31/18 23:59:59 GMT\" \"+%s\""
   ]
  },
  {
   "cell_type": "code",
   "execution_count": 347,
   "metadata": {},
   "outputs": [
    {
     "data": {
      "text/plain": [
       "(87640, 8)"
      ]
     },
     "execution_count": 347,
     "metadata": {},
     "output_type": "execute_result"
    }
   ],
   "source": [
    "# price = price[(price.Timestamp >= 1522540800) & (price.Timestamp < 1527811199)]\n",
    "# price.shape"
   ]
  },
  {
   "cell_type": "code",
   "execution_count": 360,
   "metadata": {},
   "outputs": [
    {
     "data": {
      "text/plain": [
       "6310080"
      ]
     },
     "execution_count": 360,
     "metadata": {},
     "output_type": "execute_result"
    }
   ],
   "source": [
    "# price.memory_usage(index=True, deep=True).sum()"
   ]
  },
  {
   "cell_type": "code",
   "execution_count": 361,
   "metadata": {},
   "outputs": [
    {
     "data": {
      "text/plain": [
       "6310104"
      ]
     },
     "execution_count": 361,
     "metadata": {},
     "output_type": "execute_result"
    }
   ],
   "source": [
    "# import sys\n",
    "# sys.getsizeof(price) "
   ]
  },
  {
   "cell_type": "code",
   "execution_count": 362,
   "metadata": {},
   "outputs": [
    {
     "name": "stdout",
     "output_type": "stream",
     "text": [
      "<class 'pandas.core.frame.DataFrame'>\n",
      "Int64Index: 87640 entries, 1693793 to 1781632\n",
      "Data columns (total 8 columns):\n",
      "Timestamp            87640 non-null int64\n",
      "Open                 87640 non-null float64\n",
      "High                 87640 non-null float64\n",
      "Low                  87640 non-null float64\n",
      "Close                87640 non-null float64\n",
      "Volume_(BTC)         87640 non-null float64\n",
      "Volume_(Currency)    87640 non-null float64\n",
      "Weighted_Price       87640 non-null float64\n",
      "dtypes: float64(7), int64(1)\n",
      "memory usage: 6.0 MB\n"
     ]
    }
   ],
   "source": [
    "# price.info(memory_usage='deep')"
   ]
  },
  {
   "cell_type": "code",
   "execution_count": 363,
   "metadata": {},
   "outputs": [],
   "source": [
    "# price.to_csv('price_apr_may_2018.csv')"
   ]
  },
  {
   "cell_type": "code",
   "execution_count": 364,
   "metadata": {},
   "outputs": [
    {
     "name": "stdout",
     "output_type": "stream",
     "text": [
      "Once deleted, variables cannot be recovered. Proceed (y/[n])?  y\n"
     ]
    }
   ],
   "source": [
    "# %reset_selective price"
   ]
  },
  {
   "cell_type": "code",
   "execution_count": 42,
   "metadata": {},
   "outputs": [],
   "source": [
    "price = pd.read_csv('price_apr_may_2018.csv')"
   ]
  },
  {
   "cell_type": "code",
   "execution_count": 43,
   "metadata": {},
   "outputs": [
    {
     "name": "stdout",
     "output_type": "stream",
     "text": [
      "<class 'pandas.core.frame.DataFrame'>\n",
      "RangeIndex: 87640 entries, 0 to 87639\n",
      "Data columns (total 9 columns):\n",
      "Unnamed: 0           87640 non-null int64\n",
      "Timestamp            87640 non-null int64\n",
      "Open                 87640 non-null float64\n",
      "High                 87640 non-null float64\n",
      "Low                  87640 non-null float64\n",
      "Close                87640 non-null float64\n",
      "Volume_(BTC)         87640 non-null float64\n",
      "Volume_(Currency)    87640 non-null float64\n",
      "Weighted_Price       87640 non-null float64\n",
      "dtypes: float64(7), int64(2)\n",
      "memory usage: 6.0 MB\n"
     ]
    }
   ],
   "source": [
    "price.info(memory_usage='deep')"
   ]
  },
  {
   "cell_type": "code",
   "execution_count": 81,
   "metadata": {},
   "outputs": [
    {
     "name": "stdout",
     "output_type": "stream",
     "text": [
      "1525132799\r\n"
     ]
    }
   ],
   "source": [
    "!date -j -f \"%D %X %Z\" \"04/30/18 23:59:59 GMT\" \"+%s\""
   ]
  },
  {
   "cell_type": "code",
   "execution_count": 242,
   "metadata": {},
   "outputs": [
    {
     "data": {
      "image/png": "[encoded data removed]",
      "text/plain": [
       "<Figure size 432x288 with 1 Axes>"
      ]
     },
     "metadata": {},
     "output_type": "display_data"
    }
   ],
   "source": [
    "# chart of each topic over the course of time compared to the price\n",
    "plt.plot(price[price.Timestamp < 1525132799].Weighted_Price)\n",
    "plt.xlabel('Number of seconds since the start of April 2018')\n",
    "plt.ylabel('Weighted Price')\n",
    "plt.title('Weighted Bitcoin price during April 2018')\n",
    "plt.savefig('btc_apr_2018.jpg', dpi=300)"
   ]
  },
  {
   "cell_type": "code",
   "execution_count": 243,
   "metadata": {},
   "outputs": [
    {
     "data": {
      "image/png": "[encoded data removed]",
      "text/plain": [
       "<Figure size 432x288 with 1 Axes>"
      ]
     },
     "metadata": {},
     "output_type": "display_data"
    }
   ],
   "source": [
    "# chart of each topic over the course of time compared to the price\n",
    "plt.plot(price[price.Timestamp > 1525132800].Weighted_Price)\n",
    "plt.xlabel('Number of seconds since the start of May 2018')\n",
    "plt.ylabel('Weighted Price')\n",
    "plt.title('Weighted Bitcoin price during May 2018')\n",
    "plt.savefig('btc_may_2018.jpg', dpi=300)"
   ]
  },
  {
   "cell_type": "code",
   "execution_count": 787,
   "metadata": {},
   "outputs": [
    {
     "data": {
      "text/html": [
       "<div>\n",
       "<style scoped>\n",
       "    .dataframe tbody tr th:only-of-type {\n",
       "        vertical-align: middle;\n",
       "    }\n",
       "\n",
       "    .dataframe tbody tr th {\n",
       "        vertical-align: top;\n",
       "    }\n",
       "\n",
       "    .dataframe thead th {\n",
       "        text-align: right;\n",
       "    }\n",
       "</style>\n",
       "<table border=\"1\" class=\"dataframe\">\n",
       "  <thead>\n",
       "    <tr style=\"text-align: right;\">\n",
       "      <th></th>\n",
       "      <th>topic_0</th>\n",
       "      <th>topic_1</th>\n",
       "      <th>topic_2</th>\n",
       "      <th>topic_3</th>\n",
       "      <th>topic_4</th>\n",
       "    </tr>\n",
       "  </thead>\n",
       "  <tbody>\n",
       "    <tr>\n",
       "      <th>0</th>\n",
       "      <td>0.959903</td>\n",
       "      <td>0.188000</td>\n",
       "      <td>-0.157227</td>\n",
       "      <td>0.078015</td>\n",
       "      <td>-0.111514</td>\n",
       "    </tr>\n",
       "    <tr>\n",
       "      <th>1</th>\n",
       "      <td>0.917952</td>\n",
       "      <td>0.025854</td>\n",
       "      <td>-0.339378</td>\n",
       "      <td>-0.086876</td>\n",
       "      <td>0.184313</td>\n",
       "    </tr>\n",
       "    <tr>\n",
       "      <th>2</th>\n",
       "      <td>0.493940</td>\n",
       "      <td>0.261457</td>\n",
       "      <td>-0.190383</td>\n",
       "      <td>-0.630321</td>\n",
       "      <td>0.504098</td>\n",
       "    </tr>\n",
       "    <tr>\n",
       "      <th>3</th>\n",
       "      <td>0.697769</td>\n",
       "      <td>0.179125</td>\n",
       "      <td>-0.348932</td>\n",
       "      <td>0.443067</td>\n",
       "      <td>-0.403696</td>\n",
       "    </tr>\n",
       "    <tr>\n",
       "      <th>4</th>\n",
       "      <td>0.754413</td>\n",
       "      <td>-0.123530</td>\n",
       "      <td>-0.466295</td>\n",
       "      <td>0.419063</td>\n",
       "      <td>0.150186</td>\n",
       "    </tr>\n",
       "  </tbody>\n",
       "</table>\n",
       "</div>"
      ],
      "text/plain": [
       "    topic_0   topic_1   topic_2   topic_3   topic_4\n",
       "0  0.959903  0.188000 -0.157227  0.078015 -0.111514\n",
       "1  0.917952  0.025854 -0.339378 -0.086876  0.184313\n",
       "2  0.493940  0.261457 -0.190383 -0.630321  0.504098\n",
       "3  0.697769  0.179125 -0.348932  0.443067 -0.403696\n",
       "4  0.754413 -0.123530 -0.466295  0.419063  0.150186"
      ]
     },
     "execution_count": 787,
     "metadata": {},
     "output_type": "execute_result"
    }
   ],
   "source": [
    "dtm_lsa_df = pd.DataFrame(dtm_lsa, columns=['topic_'+str(x) for x in range(5)])\n",
    "dtm_lsa_df.head()"
   ]
  },
  {
   "cell_type": "code",
   "execution_count": 788,
   "metadata": {},
   "outputs": [
    {
     "data": {
      "text/plain": [
       "(9288, 5)"
      ]
     },
     "execution_count": 788,
     "metadata": {},
     "output_type": "execute_result"
    }
   ],
   "source": [
    "dtm_lsa_df.shape"
   ]
  },
  {
   "cell_type": "code",
   "execution_count": 649,
   "metadata": {},
   "outputs": [
    {
     "name": "stderr",
     "output_type": "stream",
     "text": [
      "/Users/jonathandawson/anaconda3/lib/python3.6/site-packages/numpy/core/fromnumeric.py:51: FutureWarning: 'argmax' is deprecated, use 'idxmax' instead. The behavior of 'argmax'\n",
      "will be corrected to return the positional maximum in the future.\n",
      "Use 'series.values.argmax' to get the position of the maximum now.\n",
      "  return getattr(obj, method)(*args, **kwds)\n"
     ]
    },
    {
     "data": {
      "text/plain": [
       "'topic_0'"
      ]
     },
     "execution_count": 649,
     "metadata": {},
     "output_type": "execute_result"
    }
   ],
   "source": [
    "dtm_lsa_df.loc[:,'topic_0':'topic_4'].apply(lambda row: np.argmax(row), axis=1).value_counts().index[0]"
   ]
  },
  {
   "cell_type": "code",
   "execution_count": 572,
   "metadata": {},
   "outputs": [
    {
     "data": {
      "text/plain": [
       "81629    1525981008\n",
       "87997    1526855135\n",
       "52498    1526087774\n",
       "78366    1527325015\n",
       "4613     1527311488\n",
       "Name: created_utc, dtype: int64"
      ]
     },
     "execution_count": 572,
     "metadata": {},
     "output_type": "execute_result"
    }
   ],
   "source": [
    "bitcoin_reddit_comments.iloc[comments_preprocessed.index].created_utc.head()\n"
   ]
  },
  {
   "cell_type": "code",
   "execution_count": 573,
   "metadata": {},
   "outputs": [
    {
     "data": {
      "text/html": [
       "<div>\n",
       "<style scoped>\n",
       "    .dataframe tbody tr th:only-of-type {\n",
       "        vertical-align: middle;\n",
       "    }\n",
       "\n",
       "    .dataframe tbody tr th {\n",
       "        vertical-align: top;\n",
       "    }\n",
       "\n",
       "    .dataframe thead th {\n",
       "        text-align: right;\n",
       "    }\n",
       "</style>\n",
       "<table border=\"1\" class=\"dataframe\">\n",
       "  <thead>\n",
       "    <tr style=\"text-align: right;\">\n",
       "      <th></th>\n",
       "      <th>comments</th>\n",
       "      <th>timestamp</th>\n",
       "    </tr>\n",
       "  </thead>\n",
       "  <tbody>\n",
       "    <tr>\n",
       "      <th>81629</th>\n",
       "      <td>if you open a store front and invite anyone an...</td>\n",
       "      <td>1525981008</td>\n",
       "    </tr>\n",
       "    <tr>\n",
       "      <th>87997</th>\n",
       "      <td>lightning network  beeyotch  learn it  live it...</td>\n",
       "      <td>1526855135</td>\n",
       "    </tr>\n",
       "    <tr>\n",
       "      <th>52498</th>\n",
       "      <td>yeah i know   i was being a bit sarcastic</td>\n",
       "      <td>1526087774</td>\n",
       "    </tr>\n",
       "    <tr>\n",
       "      <th>78366</th>\n",
       "      <td>the trademark in question is here    they have...</td>\n",
       "      <td>1527325015</td>\n",
       "    </tr>\n",
       "    <tr>\n",
       "      <th>4613</th>\n",
       "      <td>no we wont  thats the whole point of the unkno...</td>\n",
       "      <td>1527311488</td>\n",
       "    </tr>\n",
       "  </tbody>\n",
       "</table>\n",
       "</div>"
      ],
      "text/plain": [
       "                                                comments   timestamp\n",
       "81629  if you open a store front and invite anyone an...  1525981008\n",
       "87997  lightning network  beeyotch  learn it  live it...  1526855135\n",
       "52498         yeah i know   i was being a bit sarcastic   1526087774\n",
       "78366  the trademark in question is here    they have...  1527325015\n",
       "4613   no we wont  thats the whole point of the unkno...  1527311488"
      ]
     },
     "execution_count": 573,
     "metadata": {},
     "output_type": "execute_result"
    }
   ],
   "source": [
    "pd.DataFrame(data={'comments':comments_preprocessed,\n",
    "                   'timestamp':bitcoin_reddit_comments.iloc[comments_preprocessed.index].created_utc\n",
    "                  }\n",
    "            ).head()"
   ]
  },
  {
   "cell_type": "code",
   "execution_count": 789,
   "metadata": {},
   "outputs": [
    {
     "data": {
      "text/html": [
       "<div>\n",
       "<style scoped>\n",
       "    .dataframe tbody tr th:only-of-type {\n",
       "        vertical-align: middle;\n",
       "    }\n",
       "\n",
       "    .dataframe tbody tr th {\n",
       "        vertical-align: top;\n",
       "    }\n",
       "\n",
       "    .dataframe thead th {\n",
       "        text-align: right;\n",
       "    }\n",
       "</style>\n",
       "<table border=\"1\" class=\"dataframe\">\n",
       "  <thead>\n",
       "    <tr style=\"text-align: right;\">\n",
       "      <th></th>\n",
       "      <th>topic_0</th>\n",
       "      <th>topic_1</th>\n",
       "      <th>topic_2</th>\n",
       "      <th>topic_3</th>\n",
       "      <th>topic_4</th>\n",
       "      <th>timestamp</th>\n",
       "    </tr>\n",
       "  </thead>\n",
       "  <tbody>\n",
       "    <tr>\n",
       "      <th>0</th>\n",
       "      <td>0.959903</td>\n",
       "      <td>0.188000</td>\n",
       "      <td>-0.157227</td>\n",
       "      <td>0.078015</td>\n",
       "      <td>-0.111514</td>\n",
       "      <td>1525981008</td>\n",
       "    </tr>\n",
       "    <tr>\n",
       "      <th>1</th>\n",
       "      <td>0.917952</td>\n",
       "      <td>0.025854</td>\n",
       "      <td>-0.339378</td>\n",
       "      <td>-0.086876</td>\n",
       "      <td>0.184313</td>\n",
       "      <td>1526855135</td>\n",
       "    </tr>\n",
       "    <tr>\n",
       "      <th>2</th>\n",
       "      <td>0.493940</td>\n",
       "      <td>0.261457</td>\n",
       "      <td>-0.190383</td>\n",
       "      <td>-0.630321</td>\n",
       "      <td>0.504098</td>\n",
       "      <td>1526087774</td>\n",
       "    </tr>\n",
       "    <tr>\n",
       "      <th>3</th>\n",
       "      <td>0.697769</td>\n",
       "      <td>0.179125</td>\n",
       "      <td>-0.348932</td>\n",
       "      <td>0.443067</td>\n",
       "      <td>-0.403696</td>\n",
       "      <td>1527325015</td>\n",
       "    </tr>\n",
       "    <tr>\n",
       "      <th>4</th>\n",
       "      <td>0.754413</td>\n",
       "      <td>-0.123530</td>\n",
       "      <td>-0.466295</td>\n",
       "      <td>0.419063</td>\n",
       "      <td>0.150186</td>\n",
       "      <td>1527311488</td>\n",
       "    </tr>\n",
       "  </tbody>\n",
       "</table>\n",
       "</div>"
      ],
      "text/plain": [
       "    topic_0   topic_1   topic_2   topic_3   topic_4   timestamp\n",
       "0  0.959903  0.188000 -0.157227  0.078015 -0.111514  1525981008\n",
       "1  0.917952  0.025854 -0.339378 -0.086876  0.184313  1526855135\n",
       "2  0.493940  0.261457 -0.190383 -0.630321  0.504098  1526087774\n",
       "3  0.697769  0.179125 -0.348932  0.443067 -0.403696  1527325015\n",
       "4  0.754413 -0.123530 -0.466295  0.419063  0.150186  1527311488"
      ]
     },
     "execution_count": 789,
     "metadata": {},
     "output_type": "execute_result"
    }
   ],
   "source": [
    "dtm_lsa_df['timestamp'] = bitcoin_reddit_comments.iloc[comments_preprocessed.index].created_utc.values\n",
    "dtm_lsa_df.head()"
   ]
  },
  {
   "cell_type": "code",
   "execution_count": 761,
   "metadata": {},
   "outputs": [
    {
     "data": {
      "text/html": [
       "<div>\n",
       "<style scoped>\n",
       "    .dataframe tbody tr th:only-of-type {\n",
       "        vertical-align: middle;\n",
       "    }\n",
       "\n",
       "    .dataframe tbody tr th {\n",
       "        vertical-align: top;\n",
       "    }\n",
       "\n",
       "    .dataframe thead th {\n",
       "        text-align: right;\n",
       "    }\n",
       "</style>\n",
       "<table border=\"1\" class=\"dataframe\">\n",
       "  <thead>\n",
       "    <tr style=\"text-align: right;\">\n",
       "      <th></th>\n",
       "      <th>topic_0</th>\n",
       "      <th>topic_1</th>\n",
       "      <th>topic_2</th>\n",
       "      <th>topic_3</th>\n",
       "      <th>topic_4</th>\n",
       "      <th>timestamp</th>\n",
       "    </tr>\n",
       "  </thead>\n",
       "  <tbody>\n",
       "    <tr>\n",
       "      <th>5878</th>\n",
       "      <td>0.907917</td>\n",
       "      <td>-0.139239</td>\n",
       "      <td>-0.022370</td>\n",
       "      <td>-0.016349</td>\n",
       "      <td>-0.394375</td>\n",
       "      <td>1525132810</td>\n",
       "    </tr>\n",
       "    <tr>\n",
       "      <th>6450</th>\n",
       "      <td>0.699116</td>\n",
       "      <td>-0.694475</td>\n",
       "      <td>-0.170087</td>\n",
       "      <td>-0.002393</td>\n",
       "      <td>-0.002426</td>\n",
       "      <td>1525133661</td>\n",
       "    </tr>\n",
       "    <tr>\n",
       "      <th>6395</th>\n",
       "      <td>0.970009</td>\n",
       "      <td>0.178796</td>\n",
       "      <td>-0.010759</td>\n",
       "      <td>-0.030665</td>\n",
       "      <td>-0.161424</td>\n",
       "      <td>1525133694</td>\n",
       "    </tr>\n",
       "    <tr>\n",
       "      <th>8433</th>\n",
       "      <td>0.826770</td>\n",
       "      <td>0.557632</td>\n",
       "      <td>0.027789</td>\n",
       "      <td>-0.036026</td>\n",
       "      <td>0.058553</td>\n",
       "      <td>1525134095</td>\n",
       "    </tr>\n",
       "    <tr>\n",
       "      <th>9013</th>\n",
       "      <td>0.907356</td>\n",
       "      <td>0.408587</td>\n",
       "      <td>0.071246</td>\n",
       "      <td>-0.049696</td>\n",
       "      <td>0.047079</td>\n",
       "      <td>1525134394</td>\n",
       "    </tr>\n",
       "  </tbody>\n",
       "</table>\n",
       "</div>"
      ],
      "text/plain": [
       "       topic_0   topic_1   topic_2   topic_3   topic_4   timestamp\n",
       "5878  0.907917 -0.139239 -0.022370 -0.016349 -0.394375  1525132810\n",
       "6450  0.699116 -0.694475 -0.170087 -0.002393 -0.002426  1525133661\n",
       "6395  0.970009  0.178796 -0.010759 -0.030665 -0.161424  1525133694\n",
       "8433  0.826770  0.557632  0.027789 -0.036026  0.058553  1525134095\n",
       "9013  0.907356  0.408587  0.071246 -0.049696  0.047079  1525134394"
      ]
     },
     "execution_count": 761,
     "metadata": {},
     "output_type": "execute_result"
    }
   ],
   "source": [
    "dtm_lsa_df.sort_values('timestamp', ascending=True).head()"
   ]
  },
  {
   "cell_type": "code",
   "execution_count": 164,
   "metadata": {},
   "outputs": [
    {
     "name": "stdout",
     "output_type": "stream",
     "text": [
      "1523145610\r\n"
     ]
    }
   ],
   "source": [
    "!date -r 1525132810 -v 7d \"+%s\""
   ]
  },
  {
   "cell_type": "code",
   "execution_count": 180,
   "metadata": {},
   "outputs": [
    {
     "name": "stdout",
     "output_type": "stream",
     "text": [
      "1525132800\r\n"
     ]
    }
   ],
   "source": [
    "!date -j -f \"%D %X %Z\" \"05/01/18 00:00:00 GMT\" \"+%s\"\n"
   ]
  },
  {
   "cell_type": "code",
   "execution_count": 188,
   "metadata": {},
   "outputs": [
    {
     "data": {
      "text/plain": [
       "[(1525132800, 1525392000),\n",
       " (1525392000, 1525651200),\n",
       " (1525651200, 1525910400),\n",
       " (1525910400, 1526169600),\n",
       " (1526169600, 1526428800),\n",
       " (1526428800, 1526688000),\n",
       " (1526688000, 1526947200),\n",
       " (1526947200, 1527206400),\n",
       " (1527206400, 1527465600),\n",
       " (1527465600, 1527724800)]"
      ]
     },
     "execution_count": 188,
     "metadata": {},
     "output_type": "execute_result"
    }
   ],
   "source": [
    "initial = 1525132800 # May 1, 2018\n",
    "seconds_in_3_days = 60*60*24*3\n",
    "timestamps_3_days = [initial+seconds_in_3_days*i for i in range(11)]\n",
    "# create a list of tuples representing the start and stop of each time period\n",
    "start_stop_list = list(zip(timestamps_3_days[:-1], timestamps_3_days[1:]))\n",
    "start_stop_list"
   ]
  },
  {
   "cell_type": "code",
   "execution_count": 602,
   "metadata": {},
   "outputs": [
    {
     "name": "stderr",
     "output_type": "stream",
     "text": [
      "/Users/jonathandawson/anaconda3/lib/python3.6/site-packages/ipykernel/__main__.py:1: FutureWarning: 'argmax' is deprecated, use 'idxmax' instead. The behavior of 'argmax'\n",
      "will be corrected to return the positional maximum in the future.\n",
      "Use 'series.values.argmax' to get the position of the maximum now.\n",
      "  if __name__ == '__main__':\n"
     ]
    },
    {
     "data": {
      "text/plain": [
       "'topic_0'"
      ]
     },
     "execution_count": 602,
     "metadata": {},
     "output_type": "execute_result"
    }
   ],
   "source": [
    "dtm_lsa_df.head().loc[:,'topic_0':'topic_4'].iloc[0]"
   ]
  },
  {
   "cell_type": "code",
   "execution_count": 806,
   "metadata": {},
   "outputs": [
    {
     "name": "stderr",
     "output_type": "stream",
     "text": [
      "/Users/jonathandawson/anaconda3/lib/python3.6/site-packages/numpy/core/fromnumeric.py:51: FutureWarning: 'argmax' is deprecated, use 'idxmax' instead. The behavior of 'argmax'\n",
      "will be corrected to return the positional maximum in the future.\n",
      "Use 'series.values.argmax' to get the position of the maximum now.\n",
      "  return getattr(obj, method)(*args, **kwds)\n"
     ]
    },
    {
     "name": "stdout",
     "output_type": "stream",
     "text": [
      "['Found 3rd place. '\n",
      " 'Third world country and third world bank. Luckily I dodged a bullet when I tried to open an account with them; luckily they were so inept they failed to open the account. '\n",
      " 'It’s not too difficult to classify. They are just too ill-equipped to do so.'\n",
      " 'Hohoho'\n",
      " \"Who's *they* though? I feel like every fucking day I have to remind people that BCH supporters, **just like BTC supporters** are not homogenous group. I roll my eyes every time Ver does anything, and I think Craig Wright is a complete fraud, yet I still believe in BCH and the general road map of on chain scaling. They don't speak for the project as a whole and they absolutely do not speak for me.\"]\n",
      "end\n",
      "\n",
      "['currently only RENDEZVOUS room is live ... there is a schedule in the same page that you should check'\n",
      " 'You guys should have listened to me as well'\n",
      " 'Have a question: I just started using Armory and just generated offline address to receive BitCoin. Do I have to download all previous transaction with Bitcoin Core to just to buy some tiny potion of a BitCoin?'\n",
      " 'This topic has been submitted several times. Please check the front page of /r/Bitcoin for previous submissions, as well as /r/Bitcoin/new. You can also try using the search bar. Thank you.             [       '\n",
      " 'I think John McAfee can consult you with this topic. ']\n",
      "end\n",
      "\n",
      "['Scam Van' 'You may be as delusional as Kanye '\n",
      " \"As others have pointed out, this isn't just a case of two sides with two valid opinions. People with real technical knowledge, i.e. not Roger Ver, almost exclusively fall on one side of the debate. I think with some genuine effort and some technical knowledge it's possible to understand why big blocks are not a good idea.  The anger and vitriol is worthless and counterproductive, sure, but as far as I can tell the matter is settled.  On one side: nearly all developers. On the other: two known fraudsters, an ex politician from Sweden, and the CEO of the largest mining manufacturer. I know who I trust.\"\n",
      " 'No offense, this sounds like a scam. '\n",
      " 'Judas is Berry Silbert?  Should be Roger Ver.']\n",
      "end\n",
      "\n",
      "['Correct!' 'Send that MF a copy of this and what he’s said.'\n",
      " 'In my view we need more mobile apps to support it. Cannot think of more than one on iOS (greenwallet). '\n",
      " \"It's just fun to pronounce Huawei. Only reason to use the wallet\"\n",
      " 'thanks for the youtube links']\n",
      "end\n",
      "\n",
      "['buy and hodl???? SPENDING THAT MONEIES REQUIRES A TX FEE!!!!... house still wins  '\n",
      " \"Gotta spell it right man. If you don't spell it as hodl then we won't know what your trying to say. And of course, haven't sold a dime since I started, even if I use it as a currency to buy things I quickly buy back whatever amount went out for the purchase to keep my hodlings steady and growing.\"\n",
      " \"How so? It's still 30x higher than when I bought.\" 'To the moon?'\n",
      " 'Hi mom. ']\n",
      "end\n",
      "\n"
     ]
    }
   ],
   "source": [
    "temp = dtm_lsa_df.join(comments_filtered.reset_index(drop=True,inplace=False))\n",
    "temp['highest'] = temp.loc[:,'topic_0':'topic_4'].apply(lambda row: np.argmax(row), axis=1)\n",
    "for x in range(5):\n",
    "    print(temp[temp['highest']=='topic_'+str(x)].sample(5).body.values)\n",
    "    print('end\\n')"
   ]
  },
  {
   "cell_type": "code",
   "execution_count": 790,
   "metadata": {},
   "outputs": [
    {
     "name": "stderr",
     "output_type": "stream",
     "text": [
      "/Users/jonathandawson/anaconda3/lib/python3.6/site-packages/numpy/core/fromnumeric.py:51: FutureWarning: 'argmax' is deprecated, use 'idxmax' instead. The behavior of 'argmax'\n",
      "will be corrected to return the positional maximum in the future.\n",
      "Use 'series.values.argmax' to get the position of the maximum now.\n",
      "  return getattr(obj, method)(*args, **kwds)\n"
     ]
    },
    {
     "name": "stdout",
     "output_type": "stream",
     "text": [
      "[828  44  25  22  18]\n",
      "[757  28  27  20  15]\n",
      "[853  27  25  18  14]\n",
      "[780  31  30  25   9]\n",
      "[868  29  24  23  17]\n",
      "[820  27  26  16  11]\n",
      "[784  32  16  15   9]\n",
      "[854  37  31  26   9]\n",
      "[759  27  16  15  12]\n",
      "[849  25  22  18  12]\n"
     ]
    }
   ],
   "source": [
    "for period in start_stop_list:\n",
    "    print(dtm_lsa_df[(dtm_lsa_df.timestamp > period[0]) & (dtm_lsa_df.timestamp < period[1])]\\\n",
    "        .loc[:,'topic_0':'topic_4']\\\n",
    "        .apply(lambda row: np.argmax(row), axis=1)\\\n",
    "        .value_counts().values)"
   ]
  },
  {
   "cell_type": "code",
   "execution_count": 204,
   "metadata": {},
   "outputs": [
    {
     "name": "stderr",
     "output_type": "stream",
     "text": [
      "/Users/jonathandawson/anaconda3/lib/python3.6/site-packages/numpy/core/fromnumeric.py:51: FutureWarning: 'argmax' is deprecated, use 'idxmax' instead. The behavior of 'argmax'\n",
      "will be corrected to return the positional maximum in the future.\n",
      "Use 'series.values.argmax' to get the position of the maximum now.\n",
      "  return getattr(obj, method)(*args, **kwds)\n"
     ]
    },
    {
     "data": {
      "text/plain": [
       "[array([262, 226, 188, 147, 114]),\n",
       " array([221, 206, 168, 151, 101]),\n",
       " array([284, 218, 184, 144, 107]),\n",
       " array([229, 189, 170, 160, 127]),\n",
       " array([276, 222, 210, 139, 114]),\n",
       " array([261, 211, 179, 150,  99]),\n",
       " array([236, 203, 156, 137, 124]),\n",
       " array([267, 196, 187, 161, 146]),\n",
       " array([228, 178, 173, 140, 110]),\n",
       " array([291, 182, 180, 148, 125])]"
      ]
     },
     "execution_count": 204,
     "metadata": {},
     "output_type": "execute_result"
    }
   ],
   "source": [
    "result = []\n",
    "for period in start_stop_list:\n",
    "    result.append(dtm_lsa_df[(dtm_lsa_df.timestamp > period[0]) & (dtm_lsa_df.timestamp < period[1])]\\\n",
    "        .loc[:,'topic_0':'topic_4']\\\n",
    "        .apply(lambda row: np.argmax(row), axis=1)\\\n",
    "        .value_counts()\\\n",
    "        .values)\n",
    "result"
   ]
  },
  {
   "cell_type": "code",
   "execution_count": 436,
   "metadata": {},
   "outputs": [
    {
     "data": {
      "text/plain": [
       "[[262, 221, 284, 229, 276, 261, 236, 267, 228, 291],\n",
       " [226, 206, 218, 189, 222, 211, 203, 196, 178, 182],\n",
       " [188, 168, 184, 170, 210, 179, 156, 187, 173, 180],\n",
       " [147, 151, 144, 160, 139, 150, 137, 161, 140, 148],\n",
       " [114, 101, 107, 127, 114, 99, 124, 146, 110, 125]]"
      ]
     },
     "execution_count": 436,
     "metadata": {},
     "output_type": "execute_result"
    }
   ],
   "source": [
    "x_val = [x for x in range(len(result))]\n",
    "transpose = []\n",
    "for i in range(len(result[0])):\n",
    "    transpose.append([line[i] for line in result])\n",
    "transpose"
   ]
  },
  {
   "cell_type": "code",
   "execution_count": 441,
   "metadata": {},
   "outputs": [],
   "source": [
    "topic_names = ['Promoters', 'Skeptics', 'Researchers', 'Reactionaries', 'Downers']"
   ]
  },
  {
   "cell_type": "code",
   "execution_count": 452,
   "metadata": {},
   "outputs": [
    {
     "data": {
      "image/png": "[encoded data removed]",
      "text/plain": [
       "<Figure size 432x288 with 1 Axes>"
      ]
     },
     "metadata": {},
     "output_type": "display_data"
    }
   ],
   "source": [
    "for i, row in enumerate(transpose):\n",
    "    plt.plot(x_val, row, label=topic_names[i])\n",
    "plt.xlabel('Time (number of 3 day periods since the start of the month)')\n",
    "plt.ylabel('\\n'.join('The number of times a topic was the highest component of a comment'.split(' ')), \n",
    "           rotation='horizontal',\n",
    "           labelpad=40,\n",
    "           horizontalalignment='center',\n",
    "           verticalalignment='center')\n",
    "plt.title('Comment topic components over time')\n",
    "plt.legend(loc='center left', bbox_to_anchor=(1, 0.5))\n",
    "plt.savefig('topics_time.jpg', dpi=300, bbox_inches='tight')"
   ]
  },
  {
   "cell_type": "code",
   "execution_count": 791,
   "metadata": {},
   "outputs": [
    {
     "data": {
      "text/html": [
       "<div>\n",
       "<style scoped>\n",
       "    .dataframe tbody tr th:only-of-type {\n",
       "        vertical-align: middle;\n",
       "    }\n",
       "\n",
       "    .dataframe tbody tr th {\n",
       "        vertical-align: top;\n",
       "    }\n",
       "\n",
       "    .dataframe thead th {\n",
       "        text-align: right;\n",
       "    }\n",
       "</style>\n",
       "<table border=\"1\" class=\"dataframe\">\n",
       "  <thead>\n",
       "    <tr style=\"text-align: right;\">\n",
       "      <th></th>\n",
       "      <th>topic_0</th>\n",
       "      <th>topic_1</th>\n",
       "      <th>topic_2</th>\n",
       "      <th>topic_3</th>\n",
       "      <th>topic_4</th>\n",
       "      <th>timestamp</th>\n",
       "      <th>label</th>\n",
       "    </tr>\n",
       "  </thead>\n",
       "  <tbody>\n",
       "    <tr>\n",
       "      <th>0</th>\n",
       "      <td>0.959903</td>\n",
       "      <td>0.188000</td>\n",
       "      <td>-0.157227</td>\n",
       "      <td>0.078015</td>\n",
       "      <td>-0.111514</td>\n",
       "      <td>1525981008</td>\n",
       "      <td>4</td>\n",
       "    </tr>\n",
       "    <tr>\n",
       "      <th>1</th>\n",
       "      <td>0.917952</td>\n",
       "      <td>0.025854</td>\n",
       "      <td>-0.339378</td>\n",
       "      <td>-0.086876</td>\n",
       "      <td>0.184313</td>\n",
       "      <td>1526855135</td>\n",
       "      <td>1</td>\n",
       "    </tr>\n",
       "    <tr>\n",
       "      <th>2</th>\n",
       "      <td>0.493940</td>\n",
       "      <td>0.261457</td>\n",
       "      <td>-0.190383</td>\n",
       "      <td>-0.630321</td>\n",
       "      <td>0.504098</td>\n",
       "      <td>1526087774</td>\n",
       "      <td>4</td>\n",
       "    </tr>\n",
       "    <tr>\n",
       "      <th>3</th>\n",
       "      <td>0.697769</td>\n",
       "      <td>0.179125</td>\n",
       "      <td>-0.348932</td>\n",
       "      <td>0.443067</td>\n",
       "      <td>-0.403696</td>\n",
       "      <td>1527325015</td>\n",
       "      <td>1</td>\n",
       "    </tr>\n",
       "    <tr>\n",
       "      <th>4</th>\n",
       "      <td>0.754413</td>\n",
       "      <td>-0.123530</td>\n",
       "      <td>-0.466295</td>\n",
       "      <td>0.419063</td>\n",
       "      <td>0.150186</td>\n",
       "      <td>1527311488</td>\n",
       "      <td>1</td>\n",
       "    </tr>\n",
       "  </tbody>\n",
       "</table>\n",
       "</div>"
      ],
      "text/plain": [
       "    topic_0   topic_1   topic_2   topic_3   topic_4   timestamp  label\n",
       "0  0.959903  0.188000 -0.157227  0.078015 -0.111514  1525981008      4\n",
       "1  0.917952  0.025854 -0.339378 -0.086876  0.184313  1526855135      1\n",
       "2  0.493940  0.261457 -0.190383 -0.630321  0.504098  1526087774      4\n",
       "3  0.697769  0.179125 -0.348932  0.443067 -0.403696  1527325015      1\n",
       "4  0.754413 -0.123530 -0.466295  0.419063  0.150186  1527311488      1"
      ]
     },
     "execution_count": 791,
     "metadata": {},
     "output_type": "execute_result"
    }
   ],
   "source": [
    "dtm_lsa_label = dtm_lsa_df.join(pd.DataFrame(data={'label':labels}))\n",
    "dtm_lsa_label.head()"
   ]
  },
  {
   "cell_type": "code",
   "execution_count": 605,
   "metadata": {},
   "outputs": [
    {
     "data": {
      "text/plain": [
       "[array([364, 267, 159,  74,  73]),\n",
       " array([352, 243, 128,  62,  62]),\n",
       " array([375, 320, 128,  61,  53]),\n",
       " array([367, 254, 103,  80,  71]),\n",
       " array([381, 291, 150,  74,  65]),\n",
       " array([337, 296, 133,  76,  58]),\n",
       " array([321, 307,  96,  69,  63]),\n",
       " array([392, 294, 130,  73,  68]),\n",
       " array([332, 256, 126,  64,  51]),\n",
       " array([378, 293, 115,  72,  68])]"
      ]
     },
     "execution_count": 605,
     "metadata": {},
     "output_type": "execute_result"
    }
   ],
   "source": [
    "result2 = []\n",
    "for period in start_stop_list:\n",
    "    result2.append(dtm_lsa_label[(dtm_lsa_label.timestamp > period[0]) & (dtm_lsa_label.timestamp < period[1])]\\\n",
    "        .label\n",
    "        .value_counts()\\\n",
    "        .values)\n",
    "result2"
   ]
  },
  {
   "cell_type": "code",
   "execution_count": 714,
   "metadata": {},
   "outputs": [
    {
     "data": {
      "text/plain": [
       "[7206, 2024, 586, 1542, 649]"
      ]
     },
     "execution_count": 714,
     "metadata": {},
     "output_type": "execute_result"
    }
   ],
   "source": [
    "[dtm_lsa_label[dtm_lsa_label['topic_'+str(i)]==dtm_lsa_label.max()[i]].index[0] for i in range(5)]\n"
   ]
  },
  {
   "cell_type": "code",
   "execution_count": 716,
   "metadata": {},
   "outputs": [
    {
     "data": {
      "text/plain": [
       "array(['The idea is for the US government to repay the debt AFTER inflation has reduced the value of the dollar. It would be much much harder to pay down the debt with a non-inflationary currency such as Bitcoin. If you believe that the US government will need inflation in order for it to be able to pay the debt, as I do, then buying Bitcoin now is one way to go.',\n",
       "       'I submitted it first you shitbot. ', 'all in again with BTC!',\n",
       "       'Good to see a fellow member displaying it proudly.', 'Yes. '],\n",
       "      dtype=object)"
      ]
     },
     "execution_count": 716,
     "metadata": {},
     "output_type": "execute_result"
    }
   ],
   "source": [
    "comments_filtered.reset_index(drop=True,inplace=False).iloc[[7206, 2024, 586, 1542, 649]].values"
   ]
  },
  {
   "cell_type": "code",
   "execution_count": 792,
   "metadata": {},
   "outputs": [
    {
     "data": {
      "text/html": [
       "<div>\n",
       "<style scoped>\n",
       "    .dataframe tbody tr th:only-of-type {\n",
       "        vertical-align: middle;\n",
       "    }\n",
       "\n",
       "    .dataframe tbody tr th {\n",
       "        vertical-align: top;\n",
       "    }\n",
       "\n",
       "    .dataframe thead th {\n",
       "        text-align: right;\n",
       "    }\n",
       "</style>\n",
       "<table border=\"1\" class=\"dataframe\">\n",
       "  <thead>\n",
       "    <tr style=\"text-align: right;\">\n",
       "      <th></th>\n",
       "      <th>topic_0</th>\n",
       "      <th>topic_1</th>\n",
       "      <th>topic_2</th>\n",
       "      <th>topic_3</th>\n",
       "      <th>topic_4</th>\n",
       "      <th>timestamp</th>\n",
       "      <th>label</th>\n",
       "      <th>body</th>\n",
       "    </tr>\n",
       "  </thead>\n",
       "  <tbody>\n",
       "    <tr>\n",
       "      <th>0</th>\n",
       "      <td>0.959903</td>\n",
       "      <td>0.188000</td>\n",
       "      <td>-0.157227</td>\n",
       "      <td>0.078015</td>\n",
       "      <td>-0.111514</td>\n",
       "      <td>1525981008</td>\n",
       "      <td>4</td>\n",
       "      <td>If you open a store front and invite anyone an...</td>\n",
       "    </tr>\n",
       "    <tr>\n",
       "      <th>1</th>\n",
       "      <td>0.917952</td>\n",
       "      <td>0.025854</td>\n",
       "      <td>-0.339378</td>\n",
       "      <td>-0.086876</td>\n",
       "      <td>0.184313</td>\n",
       "      <td>1526855135</td>\n",
       "      <td>1</td>\n",
       "      <td>Lightning Network, beeyotch. Learn it, live it...</td>\n",
       "    </tr>\n",
       "    <tr>\n",
       "      <th>2</th>\n",
       "      <td>0.493940</td>\n",
       "      <td>0.261457</td>\n",
       "      <td>-0.190383</td>\n",
       "      <td>-0.630321</td>\n",
       "      <td>0.504098</td>\n",
       "      <td>1526087774</td>\n",
       "      <td>4</td>\n",
       "      <td>Yeah I know - I was being a bit sarcastic.</td>\n",
       "    </tr>\n",
       "    <tr>\n",
       "      <th>3</th>\n",
       "      <td>0.697769</td>\n",
       "      <td>0.179125</td>\n",
       "      <td>-0.348932</td>\n",
       "      <td>0.443067</td>\n",
       "      <td>-0.403696</td>\n",
       "      <td>1527325015</td>\n",
       "      <td>1</td>\n",
       "      <td>The trademark in question is here:   They have...</td>\n",
       "    </tr>\n",
       "    <tr>\n",
       "      <th>4</th>\n",
       "      <td>0.754413</td>\n",
       "      <td>-0.123530</td>\n",
       "      <td>-0.466295</td>\n",
       "      <td>0.419063</td>\n",
       "      <td>0.150186</td>\n",
       "      <td>1527311488</td>\n",
       "      <td>1</td>\n",
       "      <td>No we wont, thats the whole point of the unkno...</td>\n",
       "    </tr>\n",
       "  </tbody>\n",
       "</table>\n",
       "</div>"
      ],
      "text/plain": [
       "    topic_0   topic_1   topic_2   topic_3   topic_4   timestamp  label  \\\n",
       "0  0.959903  0.188000 -0.157227  0.078015 -0.111514  1525981008      4   \n",
       "1  0.917952  0.025854 -0.339378 -0.086876  0.184313  1526855135      1   \n",
       "2  0.493940  0.261457 -0.190383 -0.630321  0.504098  1526087774      4   \n",
       "3  0.697769  0.179125 -0.348932  0.443067 -0.403696  1527325015      1   \n",
       "4  0.754413 -0.123530 -0.466295  0.419063  0.150186  1527311488      1   \n",
       "\n",
       "                                                body  \n",
       "0  If you open a store front and invite anyone an...  \n",
       "1  Lightning Network, beeyotch. Learn it, live it...  \n",
       "2         Yeah I know - I was being a bit sarcastic.  \n",
       "3  The trademark in question is here:   They have...  \n",
       "4  No we wont, thats the whole point of the unkno...  "
      ]
     },
     "execution_count": 792,
     "metadata": {},
     "output_type": "execute_result"
    }
   ],
   "source": [
    "dtm_lsa_doc = dtm_lsa_label.join(comments_filtered.reset_index(drop=True,inplace=False))\n",
    "dtm_lsa_doc.head()"
   ]
  },
  {
   "cell_type": "code",
   "execution_count": 793,
   "metadata": {},
   "outputs": [],
   "source": [
    "max_doc = dtm_lsa_doc[dtm_lsa_doc.body.str.len() > 120].max()\n"
   ]
  },
  {
   "cell_type": "code",
   "execution_count": 794,
   "metadata": {},
   "outputs": [
    {
     "data": {
      "text/plain": [
       "[\"Too many young people posting memes.   1980: Computers are a miracle (about 4 years after Apple formed)  1990: Recession sucks, but this internet thing is pretty interesting. Look, a browser.   2000: Let's overthrow the old economy, everything will go online!!!!!!!!  2010: Capitalism is dead.  2017: Let's over throw the old economy, Bitcoin is going over $100K!!!!!!!!!!!  2020: Capitalism is dead\",\n",
       " 'This topic has been submitted several times. Please check the front page of /r/Bitcoin for previous submissions, as well as /r/Bitcoin/new. You can also try using the search bar. Thank you.             [       ',\n",
       " \"I hate Roger so much I see red everytime I hear the name Roger now.   I broke up with my girlfriend because her brother's name was Roger, fuck ALL Rogers, am I right!\",\n",
       " 'I really would need a good introduction video in German. A lot of people that i want to intorduce to Bitcoin are just not good enough in english that they would understand a english introduction video:/ ',\n",
       " 'The answer is with you. If you have no other source of getting that imaginary fiat money, sell. Otherwise if you can  hodl for 4-6 months, it will be worth it I guess. But do not take any loans.']"
      ]
     },
     "execution_count": 794,
     "metadata": {},
     "output_type": "execute_result"
    }
   ],
   "source": [
    "[dtm_lsa_doc[dtm_lsa_label['topic_'+str(i)]==max_doc[i]].body.values[0] for i in range(5)]"
   ]
  },
  {
   "cell_type": "code",
   "execution_count": 422,
   "metadata": {},
   "outputs": [
    {
     "data": {
      "text/plain": [
       "'The\\nnumber\\nof\\ntimes\\na\\ntopic\\nwas\\nthe\\nhighest\\ncomponent\\nof\\na\\ncomment'"
      ]
     },
     "execution_count": 422,
     "metadata": {},
     "output_type": "execute_result"
    }
   ],
   "source": [
    "'\\n'.join('The number of times a topic was the highest component of a comment'.split(' '))"
   ]
  },
  {
   "cell_type": "code",
   "execution_count": null,
   "metadata": {},
   "outputs": [],
   "source": []
  }
 ],
 "metadata": {
  "kernelspec": {
   "display_name": "Python [default]",
   "language": "python",
   "name": "python3"
  },
  "language_info": {
   "codemirror_mode": {
    "name": "ipython",
    "version": 3
   },
   "file_extension": ".py",
   "mimetype": "text/x-python",
   "name": "python",
   "nbconvert_exporter": "python",
   "pygments_lexer": "ipython3",
   "version": "3.6.5"
  }
 },
 "nbformat": 4,
 "nbformat_minor": 2
}
